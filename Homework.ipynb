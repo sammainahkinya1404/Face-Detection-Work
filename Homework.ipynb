{
  "nbformat": 4,
  "nbformat_minor": 0,
  "metadata": {
    "colab": {
      "provenance": []
    },
    "kernelspec": {
      "name": "python3",
      "display_name": "Python 3"
    },
    "language_info": {
      "name": "python"
    }
  },
  "cells": [
    {
      "cell_type": "code",
      "execution_count": 21,
      "metadata": {
        "id": "Y0ZBLABSUh1t"
      },
      "outputs": [],
      "source": [
        "import cv2\n",
        "import numpy as np\n",
        "from sklearn.metrics import confusion_matrix, roc_curve, auc\n",
        "import matplotlib.pyplot as plt\n",
        "# Load the pre-trained face detection classifier\n",
        "face_cascade = cv2.CascadeClassifier(cv2.data.haarcascades + 'haarcascade_frontalface_default.xml')\n"
      ]
    },
    {
      "cell_type": "code",
      "source": [
        "\n",
        "# Load the images and detect faces in them\n",
        "images = ['/content/image1.jpg', '/content/image2.jpg', '/content/image3.jpg', '/content/image4.jpg', '/content/image5.jpg', '/content/image6.jpg', '/content/image7.jpg', '/content/image8.jpg', '/content/image9.jpg', '/content/image10.jpg']\n"
      ],
      "metadata": {
        "id": "XKtXRx8VVbtI"
      },
      "execution_count": 14,
      "outputs": []
    },
    {
      "cell_type": "code",
      "source": [
        "# Set up empty lists to store true and false positive rates\n",
        "true_positives = []\n",
        "false_positives = []"
      ],
      "metadata": {
        "id": "ufXV3plO3Mv3"
      },
      "execution_count": 15,
      "outputs": []
    },
    {
      "cell_type": "code",
      "source": [
        "\n",
        "for i in range(len(images)):\n",
        "    img = cv2.imread(images[i])\n",
        "    gray = cv2.cvtColor(img, cv2.COLOR_BGR2GRAY)\n",
        "    faces = face_cascade.detectMultiScale(gray, scaleFactor=1.1, minNeighbors=5, minSize=(30, 30))\n",
        "    \n",
        "    # Draw rectangles around the detected faces\n",
        "    for (x, y, w, h) in faces:\n",
        "        cv2.rectangle(img, (x, y), (x+w, y+h), (0, 255, 0), 2)\n",
        "    \n",
        "    # Save the image with detections\n",
        "    cv2.imwrite('detections_{}.jpg'.format(i), img)\n",
        "\n",
        "    # Count the number of true positives and false positives\n",
        "    tp = len(faces)  # true positives\n",
        "    fp = gray.shape[0] * gray.shape[1] - tp  # false positives (assuming all non-face pixels are false positives)\n",
        "\n",
        "    # Append true and false positive rates to the lists\n",
        "    true_positives.append(tp)\n",
        "    false_positives.append(fp)\n"
      ],
      "metadata": {
        "id": "0JB_JFFKVhV6"
      },
      "execution_count": 23,
      "outputs": []
    },
    {
      "cell_type": "code",
      "source": [
        "# Convert true and false positive rates to numpy arrays\n",
        "tpr = np.array(true_positives) / (gray.shape[0] * gray.shape[1] * len(images))\n",
        "fpr = np.array(false_positives) / (gray.shape[0] * gray.shape[1] * len(images))\n"
      ],
      "metadata": {
        "id": "pdaaLy930-hj"
      },
      "execution_count": 17,
      "outputs": []
    },
    {
      "cell_type": "code",
      "source": [
        "# Plot the ROC curve\n",
        "plt.plot(fpr, tpr)\n",
        "plt.xlabel('False Positive Rate')\n",
        "plt.ylabel('True Positive Rate')\n",
        "plt.title('ROC Curve')\n",
        "plt.show()"
      ],
      "metadata": {
        "colab": {
          "base_uri": "https://localhost:8080/",
          "height": 295
        },
        "id": "7XHZpGrE3uDV",
        "outputId": "9a3d4255-c086-48a0-87ea-1bef7ac6c3d9"
      },
      "execution_count": 18,
      "outputs": [
        {
          "output_type": "display_data",
          "data": {
            "text/plain": [
              "<Figure size 432x288 with 1 Axes>"
            ],
            "image/png": "[encoded data removed]"
          },
          "metadata": {
            "needs_background": "light"
          }
        }
      ]
    },
    {
      "cell_type": "code",
      "source": [
        "import cv2\n",
        "\n",
        "# Load the pre-trained face detection classifier\n",
        "face_cascade = cv2.CascadeClassifier(cv2.data.haarcascades + 'haarcascade_frontalface_default.xml')\n",
        "\n",
        "# Load the images and detect faces in them\n",
        "images = ['/content/image1.jpg', '/content/image2.jpg', '/content/image3.jpg', '/content/image4.jpg', '/content/image5.jpg', '/content/image6.jpg', '/content/image7.jpg', '/content/image8.jpg', '/content/image9.jpg', '/content/image10.jpg']\n",
        "\n",
        "for i in range(len(images)):\n",
        "    img = cv2.imread(images[i])\n",
        "    gray = cv2.cvtColor(img, cv2.COLOR_BGR2GRAY)\n",
        "    faces = face_cascade.detectMultiScale(gray, scaleFactor=1.1, minNeighbors=5, minSize=(30, 30))\n",
        "\n",
        "    # Calculate the true positives, true negatives, false positives, and false negatives\n",
        "    true_positives = len(faces)\n",
        "    false_positives = gray.shape[0] * gray.shape[1] - true_positives\n",
        "    true_negatives = 0\n",
        "    false_negatives = 0\n",
        "    for x in range(gray.shape[0]):\n",
        "        for y in range(gray.shape[1]):\n",
        "            if (x, y, 1, 1) not in faces:\n",
        "                true_negatives += 1\n",
        "            else:\n",
        "                false_negatives += 1\n",
        "\n",
        "    # Print the confusion matrix for the current image\n",
        "    print('Confusion matrix for image {}:'.format(i+1))\n",
        "    print('True Positives: {}'.format(true_positives))\n",
        "    print('True Negatives: {}'.format(true_negatives))\n",
        "    print('False Positives: {}'.format(false_positives))\n",
        "    print('False Negatives: {}'.format(false_negatives))\n"
      ],
      "metadata": {
        "colab": {
          "base_uri": "https://localhost:8080/"
        },
        "id": "inR8iv2w5K8A",
        "outputId": "10800782-df35-4e4b-846c-27a7de732a1c"
      },
      "execution_count": 20,
      "outputs": [
        {
          "output_type": "stream",
          "name": "stdout",
          "text": [
            "Confusion matrix for image 1:\n",
            "True Positives: 29\n",
            "True Negatives: 25663852\n",
            "False Positives: 25958371\n",
            "False Negatives: 294548\n",
            "Confusion matrix for image 2:\n",
            "True Positives: 19\n",
            "True Negatives: 14791139\n",
            "False Positives: 14929901\n",
            "False Negatives: 138781\n",
            "Confusion matrix for image 3:\n",
            "True Positives: 3\n",
            "True Negatives: 11986473\n",
            "False Positives: 12007677\n",
            "False Negatives: 21207\n",
            "Confusion matrix for image 4:\n",
            "True Positives: 7\n",
            "True Negatives: 16758459\n",
            "False Positives: 16801933\n",
            "False Negatives: 43481\n",
            "Confusion matrix for image 5:\n",
            "True Positives: 4\n",
            "True Negatives: 23246492\n",
            "False Positives: 23279996\n",
            "False Negatives: 33508\n",
            "Confusion matrix for image 6:\n",
            "True Positives: 24\n",
            "True Negatives: 14925252\n",
            "False Positives: 15105324\n",
            "False Negatives: 180096\n",
            "Confusion matrix for image 7:\n",
            "True Positives: 11\n",
            "True Negatives: 12131357\n",
            "False Positives: 12192757\n",
            "False Negatives: 61411\n",
            "Confusion matrix for image 8:\n",
            "True Positives: 9\n",
            "True Negatives: 16158054\n",
            "False Positives: 16222761\n",
            "False Negatives: 64716\n",
            "Confusion matrix for image 9:\n",
            "True Positives: 9\n",
            "True Negatives: 16158054\n",
            "False Positives: 16222761\n",
            "False Negatives: 64716\n",
            "Confusion matrix for image 10:\n",
            "True Positives: 18\n",
            "True Negatives: 44556474\n",
            "False Positives: 44736494\n",
            "False Negatives: 180038\n"
          ]
        }
      ]
    }
  ]
}